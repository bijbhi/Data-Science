{
 "cells": [
  {
   "cell_type": "code",
   "execution_count": 44,
   "id": "2cabbaba",
   "metadata": {},
   "outputs": [],
   "source": [
    "#import necessary libraries\n",
    "import pandas as pd \n",
    "import numpy as np\n",
    "\n",
    "from collections import OrderedDict\n",
    "\n",
    "import matplotlib.pyplot as plt\n",
    "import seaborn as sns\n",
    "import scipy.stats as sc \n",
    "\n",
    "#encoding libraries\n",
    "from sklearn.preprocessing import LabelEncoder\n",
    "\n",
    "#train test split\n",
    "from sklearn.model_selection import train_test_split, cross_val_score\n",
    "\n",
    "#import library for linear regression\n",
    "from sklearn.linear_model import LinearRegression, Ridge, Lasso\n",
    "\n",
    "from sklearn.tree import DecisionTreeRegressor\n",
    "\n",
    "#import library for evalution of model\n",
    "from sklearn.metrics import r2_score"
   ]
  },
  {
   "cell_type": "code",
   "execution_count": 2,
   "id": "e6b6c5cd",
   "metadata": {},
   "outputs": [],
   "source": [
    "df = pd.read_excel(\"Xiaomi India.xlsx\")"
   ]
  },
  {
   "cell_type": "code",
   "execution_count": 3,
   "id": "c4cd1cbf",
   "metadata": {},
   "outputs": [
    {
     "data": {
      "text/html": [
       "<div>\n",
       "<style scoped>\n",
       "    .dataframe tbody tr th:only-of-type {\n",
       "        vertical-align: middle;\n",
       "    }\n",
       "\n",
       "    .dataframe tbody tr th {\n",
       "        vertical-align: top;\n",
       "    }\n",
       "\n",
       "    .dataframe thead th {\n",
       "        text-align: right;\n",
       "    }\n",
       "</style>\n",
       "<table border=\"1\" class=\"dataframe\">\n",
       "  <thead>\n",
       "    <tr style=\"text-align: right;\">\n",
       "      <th></th>\n",
       "      <th>Customer</th>\n",
       "      <th>Day</th>\n",
       "      <th>Browser</th>\n",
       "      <th>No. of Clicks</th>\n",
       "      <th>Pages Viewed</th>\n",
       "      <th>Time (min)</th>\n",
       "      <th>Amount Spent (Rs.)</th>\n",
       "    </tr>\n",
       "  </thead>\n",
       "  <tbody>\n",
       "    <tr>\n",
       "      <th>0</th>\n",
       "      <td>1</td>\n",
       "      <td>Monday</td>\n",
       "      <td>Chrome</td>\n",
       "      <td>13</td>\n",
       "      <td>4</td>\n",
       "      <td>8.5</td>\n",
       "      <td>2668.0</td>\n",
       "    </tr>\n",
       "    <tr>\n",
       "      <th>1</th>\n",
       "      <td>2</td>\n",
       "      <td>Saturday</td>\n",
       "      <td>Chrome</td>\n",
       "      <td>15</td>\n",
       "      <td>5</td>\n",
       "      <td>16.9</td>\n",
       "      <td>3469.0</td>\n",
       "    </tr>\n",
       "    <tr>\n",
       "      <th>2</th>\n",
       "      <td>3</td>\n",
       "      <td>Monday</td>\n",
       "      <td>Internet Explorer</td>\n",
       "      <td>20</td>\n",
       "      <td>6</td>\n",
       "      <td>7.3</td>\n",
       "      <td>5215.0</td>\n",
       "    </tr>\n",
       "    <tr>\n",
       "      <th>3</th>\n",
       "      <td>4</td>\n",
       "      <td>Monday</td>\n",
       "      <td>Chrome</td>\n",
       "      <td>42</td>\n",
       "      <td>6</td>\n",
       "      <td>30.1</td>\n",
       "      <td>10423.0</td>\n",
       "    </tr>\n",
       "    <tr>\n",
       "      <th>4</th>\n",
       "      <td>5</td>\n",
       "      <td>Saturday</td>\n",
       "      <td>Internet Explorer</td>\n",
       "      <td>20</td>\n",
       "      <td>6</td>\n",
       "      <td>13.3</td>\n",
       "      <td>5404.0</td>\n",
       "    </tr>\n",
       "  </tbody>\n",
       "</table>\n",
       "</div>"
      ],
      "text/plain": [
       "   Customer       Day            Browser  No. of Clicks  Pages Viewed  \\\n",
       "0         1    Monday             Chrome             13             4   \n",
       "1         2  Saturday             Chrome             15             5   \n",
       "2         3    Monday  Internet Explorer             20             6   \n",
       "3         4    Monday             Chrome             42             6   \n",
       "4         5  Saturday  Internet Explorer             20             6   \n",
       "\n",
       "   Time (min)  Amount Spent (Rs.)  \n",
       "0         8.5              2668.0  \n",
       "1        16.9              3469.0  \n",
       "2         7.3              5215.0  \n",
       "3        30.1             10423.0  \n",
       "4        13.3              5404.0  "
      ]
     },
     "execution_count": 3,
     "metadata": {},
     "output_type": "execute_result"
    }
   ],
   "source": [
    "df.head()"
   ]
  },
  {
   "cell_type": "code",
   "execution_count": 4,
   "id": "35527e07",
   "metadata": {},
   "outputs": [],
   "source": [
    "df.drop(\"Customer\",axis = 1, inplace = True)"
   ]
  },
  {
   "cell_type": "code",
   "execution_count": 5,
   "id": "42e6ba77",
   "metadata": {},
   "outputs": [
    {
     "data": {
      "text/html": [
       "<div>\n",
       "<style scoped>\n",
       "    .dataframe tbody tr th:only-of-type {\n",
       "        vertical-align: middle;\n",
       "    }\n",
       "\n",
       "    .dataframe tbody tr th {\n",
       "        vertical-align: top;\n",
       "    }\n",
       "\n",
       "    .dataframe thead th {\n",
       "        text-align: right;\n",
       "    }\n",
       "</style>\n",
       "<table border=\"1\" class=\"dataframe\">\n",
       "  <thead>\n",
       "    <tr style=\"text-align: right;\">\n",
       "      <th></th>\n",
       "      <th>Day</th>\n",
       "      <th>Browser</th>\n",
       "      <th>No. of Clicks</th>\n",
       "      <th>Pages Viewed</th>\n",
       "      <th>Time (min)</th>\n",
       "      <th>Amount Spent (Rs.)</th>\n",
       "    </tr>\n",
       "  </thead>\n",
       "  <tbody>\n",
       "    <tr>\n",
       "      <th>0</th>\n",
       "      <td>Monday</td>\n",
       "      <td>Chrome</td>\n",
       "      <td>13</td>\n",
       "      <td>4</td>\n",
       "      <td>8.5</td>\n",
       "      <td>2668.0</td>\n",
       "    </tr>\n",
       "    <tr>\n",
       "      <th>1</th>\n",
       "      <td>Saturday</td>\n",
       "      <td>Chrome</td>\n",
       "      <td>15</td>\n",
       "      <td>5</td>\n",
       "      <td>16.9</td>\n",
       "      <td>3469.0</td>\n",
       "    </tr>\n",
       "    <tr>\n",
       "      <th>2</th>\n",
       "      <td>Monday</td>\n",
       "      <td>Internet Explorer</td>\n",
       "      <td>20</td>\n",
       "      <td>6</td>\n",
       "      <td>7.3</td>\n",
       "      <td>5215.0</td>\n",
       "    </tr>\n",
       "    <tr>\n",
       "      <th>3</th>\n",
       "      <td>Monday</td>\n",
       "      <td>Chrome</td>\n",
       "      <td>42</td>\n",
       "      <td>6</td>\n",
       "      <td>30.1</td>\n",
       "      <td>10423.0</td>\n",
       "    </tr>\n",
       "    <tr>\n",
       "      <th>4</th>\n",
       "      <td>Saturday</td>\n",
       "      <td>Internet Explorer</td>\n",
       "      <td>20</td>\n",
       "      <td>6</td>\n",
       "      <td>13.3</td>\n",
       "      <td>5404.0</td>\n",
       "    </tr>\n",
       "  </tbody>\n",
       "</table>\n",
       "</div>"
      ],
      "text/plain": [
       "        Day            Browser  No. of Clicks  Pages Viewed  Time (min)  \\\n",
       "0    Monday             Chrome             13             4         8.5   \n",
       "1  Saturday             Chrome             15             5        16.9   \n",
       "2    Monday  Internet Explorer             20             6         7.3   \n",
       "3    Monday             Chrome             42             6        30.1   \n",
       "4  Saturday  Internet Explorer             20             6        13.3   \n",
       "\n",
       "   Amount Spent (Rs.)  \n",
       "0              2668.0  \n",
       "1              3469.0  \n",
       "2              5215.0  \n",
       "3             10423.0  \n",
       "4              5404.0  "
      ]
     },
     "execution_count": 5,
     "metadata": {},
     "output_type": "execute_result"
    }
   ],
   "source": [
    "df.head()"
   ]
  },
  {
   "cell_type": "code",
   "execution_count": 6,
   "id": "1257c548",
   "metadata": {},
   "outputs": [
    {
     "name": "stdout",
     "output_type": "stream",
     "text": [
      "This Day is categorical variable\n",
      "This Browser is categorical variable\n",
      "This No. of Clicks is continious variable\n",
      "This Pages Viewed is continious variable\n",
      "This Time (min) is continious variable\n",
      "This Amount Spent (Rs.) is continious variable\n",
      "4\n",
      "2\n"
     ]
    }
   ],
   "source": [
    "cat = 0\n",
    "con = 0\n",
    "for column in df.columns:\n",
    "    if df[column].dtype != \"object\":\n",
    "        print(f\"This {column} is continious variable\")\n",
    "        con = con + 1\n",
    "    else:\n",
    "        print(f\"This {column} is categorical variable\")\n",
    "        cat = cat + 1\n",
    "print(con)\n",
    "print(cat)"
   ]
  },
  {
   "cell_type": "code",
   "execution_count": 7,
   "id": "91493ce3",
   "metadata": {},
   "outputs": [],
   "source": [
    "def custom_summary(df):\n",
    "    result =[]\n",
    "    for col in list(df.columns):\n",
    "        stats = OrderedDict({\"featureName\":col,\n",
    "                            \"count\":df[col].count(),\n",
    "                            \"datatype\":df[col].dtype,\n",
    "                            \"min\":df[col].min(),\n",
    "                            \"Q1\":df[col].quantile(0.25),\n",
    "                            \"Q2\":df[col].quantile(0.5),\n",
    "                            \"Q3\":df[col].quantile(0.75),\n",
    "                            \"Q4\":df[col].quantile(1.0),\n",
    "                            \"mean\":df[col].mean(),\n",
    "                            \"stdv\":df[col].std(),\n",
    "                            \"var\":df[col].var(),\n",
    "                            \"kurt\":df[col].kurt(),\n",
    "                            \"skew\":df[col].skew(),\n",
    "                            \"range\":df[col].min() - df[col].max(),\n",
    "                            \"IQR\": df[col].quantile(0.75) - df[col].quantile(0.25)\n",
    "                            })\n",
    "        if df[col].skew()<-1.0:\n",
    "            label = \"Highly negatively skewed\"\n",
    "        elif -1.0<df[col].skew()<-0.5:\n",
    "            label = \"moderately negatively skewed\"\n",
    "        elif -0.5<df[col].skew()<0.5:\n",
    "            label = \"fairly symmetric\"\n",
    "        elif -0.5<df[col].skew()<0.5:\n",
    "            label = \"moderately positively skewed\"\n",
    "        else:\n",
    "            label = \"Highly positively skewed\"\n",
    "            \n",
    "        stats['skewness comment'] = label;\n",
    "        \n",
    "        #Outliers identification\n",
    "        upper_limit = stats['Q3'] + (1.5*stats['IQR'])\n",
    "        lower_limit = stats['Q1'] - (1.5*stats['IQR'])\n",
    "        if len([x for x in df[col] if x <lower_limit or x>upper_limit ]) > 0:\n",
    "            outliers_label = \"Has outliers\"\n",
    "        else:\n",
    "            outliers_label = \"No outliers\"\n",
    "        \n",
    "        stats['Outlier comment'] = outliers_label\n",
    "        #count =0\n",
    "        #if (x for x in df[col] if x <lower_limit) or (x for x in df[col] if x>upper_limit):\n",
    "        #    count +=1\n",
    "        \n",
    "        stats['number of outliers'] = len([x for x in df[col] if x <lower_limit or x>upper_limit ])\n",
    "        stats['Percentage of outliers'] = stats['number of outliers']*100/stats['count']\n",
    "        \n",
    "        result.append(stats)\n",
    "    resultdf = pd.DataFrame(data=result)\n",
    "    return resultdf\n",
    "    "
   ]
  },
  {
   "cell_type": "code",
   "execution_count": 8,
   "id": "10c482f8",
   "metadata": {},
   "outputs": [
    {
     "data": {
      "text/html": [
       "<div>\n",
       "<style scoped>\n",
       "    .dataframe tbody tr th:only-of-type {\n",
       "        vertical-align: middle;\n",
       "    }\n",
       "\n",
       "    .dataframe tbody tr th {\n",
       "        vertical-align: top;\n",
       "    }\n",
       "\n",
       "    .dataframe thead th {\n",
       "        text-align: right;\n",
       "    }\n",
       "</style>\n",
       "<table border=\"1\" class=\"dataframe\">\n",
       "  <thead>\n",
       "    <tr style=\"text-align: right;\">\n",
       "      <th></th>\n",
       "      <th>featureName</th>\n",
       "      <th>count</th>\n",
       "      <th>datatype</th>\n",
       "      <th>min</th>\n",
       "      <th>Q1</th>\n",
       "      <th>Q2</th>\n",
       "      <th>Q3</th>\n",
       "      <th>Q4</th>\n",
       "      <th>mean</th>\n",
       "      <th>stdv</th>\n",
       "      <th>var</th>\n",
       "      <th>kurt</th>\n",
       "      <th>skew</th>\n",
       "      <th>range</th>\n",
       "      <th>IQR</th>\n",
       "      <th>skewness comment</th>\n",
       "      <th>Outlier comment</th>\n",
       "      <th>number of outliers</th>\n",
       "      <th>Percentage of outliers</th>\n",
       "    </tr>\n",
       "  </thead>\n",
       "  <tbody>\n",
       "    <tr>\n",
       "      <th>0</th>\n",
       "      <td>No. of Clicks</td>\n",
       "      <td>43200</td>\n",
       "      <td>int64</td>\n",
       "      <td>8.0</td>\n",
       "      <td>18.0</td>\n",
       "      <td>22.5</td>\n",
       "      <td>29.0</td>\n",
       "      <td>46.0</td>\n",
       "      <td>23.74</td>\n",
       "      <td>8.267647</td>\n",
       "      <td>68.353982</td>\n",
       "      <td>0.025564</td>\n",
       "      <td>0.677900</td>\n",
       "      <td>-38.0</td>\n",
       "      <td>11.0</td>\n",
       "      <td>Highly positively skewed</td>\n",
       "      <td>Has outliers</td>\n",
       "      <td>864</td>\n",
       "      <td>2.0</td>\n",
       "    </tr>\n",
       "    <tr>\n",
       "      <th>1</th>\n",
       "      <td>Pages Viewed</td>\n",
       "      <td>43200</td>\n",
       "      <td>int64</td>\n",
       "      <td>2.0</td>\n",
       "      <td>3.0</td>\n",
       "      <td>4.5</td>\n",
       "      <td>6.0</td>\n",
       "      <td>10.0</td>\n",
       "      <td>4.82</td>\n",
       "      <td>2.016853</td>\n",
       "      <td>4.067694</td>\n",
       "      <td>0.034871</td>\n",
       "      <td>0.626857</td>\n",
       "      <td>-8.0</td>\n",
       "      <td>3.0</td>\n",
       "      <td>Highly positively skewed</td>\n",
       "      <td>No outliers</td>\n",
       "      <td>0</td>\n",
       "      <td>0.0</td>\n",
       "    </tr>\n",
       "    <tr>\n",
       "      <th>2</th>\n",
       "      <td>Time (min)</td>\n",
       "      <td>43200</td>\n",
       "      <td>float64</td>\n",
       "      <td>4.3</td>\n",
       "      <td>8.5</td>\n",
       "      <td>11.4</td>\n",
       "      <td>15.1</td>\n",
       "      <td>32.9</td>\n",
       "      <td>12.81</td>\n",
       "      <td>6.002444</td>\n",
       "      <td>36.029334</td>\n",
       "      <td>2.053011</td>\n",
       "      <td>1.406018</td>\n",
       "      <td>-28.6</td>\n",
       "      <td>6.6</td>\n",
       "      <td>Highly positively skewed</td>\n",
       "      <td>Has outliers</td>\n",
       "      <td>1728</td>\n",
       "      <td>4.0</td>\n",
       "    </tr>\n",
       "  </tbody>\n",
       "</table>\n",
       "</div>"
      ],
      "text/plain": [
       "     featureName  count datatype  min    Q1    Q2    Q3    Q4   mean  \\\n",
       "0  No. of Clicks  43200    int64  8.0  18.0  22.5  29.0  46.0  23.74   \n",
       "1   Pages Viewed  43200    int64  2.0   3.0   4.5   6.0  10.0   4.82   \n",
       "2     Time (min)  43200  float64  4.3   8.5  11.4  15.1  32.9  12.81   \n",
       "\n",
       "       stdv        var      kurt      skew  range   IQR  \\\n",
       "0  8.267647  68.353982  0.025564  0.677900  -38.0  11.0   \n",
       "1  2.016853   4.067694  0.034871  0.626857   -8.0   3.0   \n",
       "2  6.002444  36.029334  2.053011  1.406018  -28.6   6.6   \n",
       "\n",
       "           skewness comment Outlier comment  number of outliers  \\\n",
       "0  Highly positively skewed    Has outliers                 864   \n",
       "1  Highly positively skewed     No outliers                   0   \n",
       "2  Highly positively skewed    Has outliers                1728   \n",
       "\n",
       "   Percentage of outliers  \n",
       "0                     2.0  \n",
       "1                     0.0  \n",
       "2                     4.0  "
      ]
     },
     "execution_count": 8,
     "metadata": {},
     "output_type": "execute_result"
    }
   ],
   "source": [
    "custom_summary(df[['No. of Clicks', 'Pages Viewed', 'Time (min)']])"
   ]
  },
  {
   "cell_type": "code",
   "execution_count": 9,
   "id": "261f8be5",
   "metadata": {},
   "outputs": [],
   "source": [
    "def odt_plots(df, col):\n",
    "    fig,(ax1, ax2, ax3) = plt.subplots(1,3,figsize = (16,5))\n",
    "    \n",
    "    kwargs = {'fontsize':15, 'color':'black'}    #key word arguements\n",
    "    \n",
    "    #box plot with outliers\n",
    "    sns.boxplot(df[col],ax=ax1,color = 'b')\n",
    "    ax1.set_title('Box plot for '+col, **kwargs)\n",
    "    ax1.set_xlabel('values', **kwargs)\n",
    "    ax1.set_ylabel('Box distribution', **kwargs)\n",
    "    \n",
    "    #histogram with outliers\n",
    "    sns.distplot(df[col],ax=ax2,color = 'r', fit=sc.norm)\n",
    "    ax2.set_title('Histogram plot for '+col, **kwargs)\n",
    "    ax2.set_xlabel('values', **kwargs)\n",
    "    ax2.set_ylabel('Histrogram', **kwargs)\n",
    "    \n",
    "    #histogram with no outliers\n",
    "    y = df\n",
    "    sns.distplot(y[col], ax = ax3, color = 'y', fit=sc.norm)\n",
    "    plt.show()\n",
    "    "
   ]
  },
  {
   "cell_type": "code",
   "execution_count": 10,
   "id": "e03628be",
   "metadata": {},
   "outputs": [
    {
     "name": "stderr",
     "output_type": "stream",
     "text": [
      "C:\\Users\\Abhi\\anaconda3\\lib\\site-packages\\seaborn\\_decorators.py:36: FutureWarning: Pass the following variable as a keyword arg: x. From version 0.12, the only valid positional argument will be `data`, and passing other arguments without an explicit keyword will result in an error or misinterpretation.\n",
      "  warnings.warn(\n",
      "C:\\Users\\Abhi\\anaconda3\\lib\\site-packages\\seaborn\\distributions.py:2557: FutureWarning: `distplot` is a deprecated function and will be removed in a future version. Please adapt your code to use either `displot` (a figure-level function with similar flexibility) or `histplot` (an axes-level function for histograms).\n",
      "  warnings.warn(msg, FutureWarning)\n",
      "C:\\Users\\Abhi\\anaconda3\\lib\\site-packages\\seaborn\\distributions.py:2557: FutureWarning: `distplot` is a deprecated function and will be removed in a future version. Please adapt your code to use either `displot` (a figure-level function with similar flexibility) or `histplot` (an axes-level function for histograms).\n",
      "  warnings.warn(msg, FutureWarning)\n"
     ]
    },
    {
     "data": {
      "image/png": "[encoded data removed]",
      "text/plain": [
       "<Figure size 1152x360 with 3 Axes>"
      ]
     },
     "metadata": {
      "needs_background": "light"
     },
     "output_type": "display_data"
    },
    {
     "name": "stderr",
     "output_type": "stream",
     "text": [
      "C:\\Users\\Abhi\\anaconda3\\lib\\site-packages\\seaborn\\_decorators.py:36: FutureWarning: Pass the following variable as a keyword arg: x. From version 0.12, the only valid positional argument will be `data`, and passing other arguments without an explicit keyword will result in an error or misinterpretation.\n",
      "  warnings.warn(\n",
      "C:\\Users\\Abhi\\anaconda3\\lib\\site-packages\\seaborn\\distributions.py:2557: FutureWarning: `distplot` is a deprecated function and will be removed in a future version. Please adapt your code to use either `displot` (a figure-level function with similar flexibility) or `histplot` (an axes-level function for histograms).\n",
      "  warnings.warn(msg, FutureWarning)\n",
      "C:\\Users\\Abhi\\anaconda3\\lib\\site-packages\\seaborn\\distributions.py:2557: FutureWarning: `distplot` is a deprecated function and will be removed in a future version. Please adapt your code to use either `displot` (a figure-level function with similar flexibility) or `histplot` (an axes-level function for histograms).\n",
      "  warnings.warn(msg, FutureWarning)\n"
     ]
    },
    {
     "data": {
      "image/png": "[encoded data removed]",
      "text/plain": [
       "<Figure size 1152x360 with 3 Axes>"
      ]
     },
     "metadata": {
      "needs_background": "light"
     },
     "output_type": "display_data"
    },
    {
     "name": "stderr",
     "output_type": "stream",
     "text": [
      "C:\\Users\\Abhi\\anaconda3\\lib\\site-packages\\seaborn\\_decorators.py:36: FutureWarning: Pass the following variable as a keyword arg: x. From version 0.12, the only valid positional argument will be `data`, and passing other arguments without an explicit keyword will result in an error or misinterpretation.\n",
      "  warnings.warn(\n",
      "C:\\Users\\Abhi\\anaconda3\\lib\\site-packages\\seaborn\\distributions.py:2557: FutureWarning: `distplot` is a deprecated function and will be removed in a future version. Please adapt your code to use either `displot` (a figure-level function with similar flexibility) or `histplot` (an axes-level function for histograms).\n",
      "  warnings.warn(msg, FutureWarning)\n",
      "C:\\Users\\Abhi\\anaconda3\\lib\\site-packages\\seaborn\\distributions.py:2557: FutureWarning: `distplot` is a deprecated function and will be removed in a future version. Please adapt your code to use either `displot` (a figure-level function with similar flexibility) or `histplot` (an axes-level function for histograms).\n",
      "  warnings.warn(msg, FutureWarning)\n"
     ]
    },
    {
     "data": {
      "image/png": "[encoded data removed]",
      "text/plain": [
       "<Figure size 1152x360 with 3 Axes>"
      ]
     },
     "metadata": {
      "needs_background": "light"
     },
     "output_type": "display_data"
    }
   ],
   "source": [
    "for col in df[['No. of Clicks', 'Pages Viewed', 'Time (min)']]:\n",
    "    odt_plots(df[['No. of Clicks', 'Pages Viewed', 'Time (min)']], col)"
   ]
  },
  {
   "cell_type": "code",
   "execution_count": 11,
   "id": "2c82cc13",
   "metadata": {},
   "outputs": [],
   "source": [
    "#Label encoding\n",
    "le = LabelEncoder()"
   ]
  },
  {
   "cell_type": "code",
   "execution_count": 12,
   "id": "99718ae5",
   "metadata": {},
   "outputs": [],
   "source": [
    "df[\"Day\"] = le.fit_transform(df[\"Day\"])\n",
    "df[\"Browser\"] = le.fit_transform(df['Browser'])"
   ]
  },
  {
   "cell_type": "code",
   "execution_count": 13,
   "id": "964be1f0",
   "metadata": {},
   "outputs": [
    {
     "data": {
      "text/html": [
       "<div>\n",
       "<style scoped>\n",
       "    .dataframe tbody tr th:only-of-type {\n",
       "        vertical-align: middle;\n",
       "    }\n",
       "\n",
       "    .dataframe tbody tr th {\n",
       "        vertical-align: top;\n",
       "    }\n",
       "\n",
       "    .dataframe thead th {\n",
       "        text-align: right;\n",
       "    }\n",
       "</style>\n",
       "<table border=\"1\" class=\"dataframe\">\n",
       "  <thead>\n",
       "    <tr style=\"text-align: right;\">\n",
       "      <th></th>\n",
       "      <th>Day</th>\n",
       "      <th>Browser</th>\n",
       "      <th>No. of Clicks</th>\n",
       "      <th>Pages Viewed</th>\n",
       "      <th>Time (min)</th>\n",
       "      <th>Amount Spent (Rs.)</th>\n",
       "    </tr>\n",
       "  </thead>\n",
       "  <tbody>\n",
       "    <tr>\n",
       "      <th>0</th>\n",
       "      <td>1</td>\n",
       "      <td>0</td>\n",
       "      <td>13</td>\n",
       "      <td>4</td>\n",
       "      <td>8.5</td>\n",
       "      <td>2668.0</td>\n",
       "    </tr>\n",
       "    <tr>\n",
       "      <th>1</th>\n",
       "      <td>2</td>\n",
       "      <td>0</td>\n",
       "      <td>15</td>\n",
       "      <td>5</td>\n",
       "      <td>16.9</td>\n",
       "      <td>3469.0</td>\n",
       "    </tr>\n",
       "    <tr>\n",
       "      <th>2</th>\n",
       "      <td>1</td>\n",
       "      <td>2</td>\n",
       "      <td>20</td>\n",
       "      <td>6</td>\n",
       "      <td>7.3</td>\n",
       "      <td>5215.0</td>\n",
       "    </tr>\n",
       "    <tr>\n",
       "      <th>3</th>\n",
       "      <td>1</td>\n",
       "      <td>0</td>\n",
       "      <td>42</td>\n",
       "      <td>6</td>\n",
       "      <td>30.1</td>\n",
       "      <td>10423.0</td>\n",
       "    </tr>\n",
       "    <tr>\n",
       "      <th>4</th>\n",
       "      <td>2</td>\n",
       "      <td>2</td>\n",
       "      <td>20</td>\n",
       "      <td>6</td>\n",
       "      <td>13.3</td>\n",
       "      <td>5404.0</td>\n",
       "    </tr>\n",
       "  </tbody>\n",
       "</table>\n",
       "</div>"
      ],
      "text/plain": [
       "   Day  Browser  No. of Clicks  Pages Viewed  Time (min)  Amount Spent (Rs.)\n",
       "0    1        0             13             4         8.5              2668.0\n",
       "1    2        0             15             5        16.9              3469.0\n",
       "2    1        2             20             6         7.3              5215.0\n",
       "3    1        0             42             6        30.1             10423.0\n",
       "4    2        2             20             6        13.3              5404.0"
      ]
     },
     "execution_count": 13,
     "metadata": {},
     "output_type": "execute_result"
    }
   ],
   "source": [
    "df.head()"
   ]
  },
  {
   "cell_type": "code",
   "execution_count": 14,
   "id": "fa8d5d48",
   "metadata": {},
   "outputs": [],
   "source": [
    "#train test split\n",
    "#define x and y"
   ]
  },
  {
   "cell_type": "code",
   "execution_count": 15,
   "id": "5f0db5a2",
   "metadata": {},
   "outputs": [],
   "source": [
    "X = df.drop(\"Amount Spent (Rs.)\", axis=1)"
   ]
  },
  {
   "cell_type": "code",
   "execution_count": 16,
   "id": "8fcace5e",
   "metadata": {},
   "outputs": [],
   "source": [
    "y = df[[\"Amount Spent (Rs.)\"]]"
   ]
  },
  {
   "cell_type": "code",
   "execution_count": 17,
   "id": "f64f452d",
   "metadata": {},
   "outputs": [],
   "source": [
    "#train test split\n",
    "X_train,X_test,y_train,y_test = train_test_split(X,y,test_size=0.3,random_state=50)"
   ]
  },
  {
   "cell_type": "code",
   "execution_count": 18,
   "id": "da89a58f",
   "metadata": {},
   "outputs": [
    {
     "data": {
      "text/plain": [
       "((30240, 5), (30240, 1), (12960, 5), (12960, 1))"
      ]
     },
     "execution_count": 18,
     "metadata": {},
     "output_type": "execute_result"
    }
   ],
   "source": [
    "X_train.shape,y_train.shape,X_test.shape,y_test.shape"
   ]
  },
  {
   "cell_type": "markdown",
   "id": "1a9e400c",
   "metadata": {},
   "source": [
    "# Model Building"
   ]
  },
  {
   "cell_type": "code",
   "execution_count": 34,
   "id": "b770980c",
   "metadata": {},
   "outputs": [],
   "source": [
    "lr = LinearRegression()\n",
    "dt = DecisionTreeRegressor()"
   ]
  },
  {
   "cell_type": "code",
   "execution_count": 35,
   "id": "8f54b83b",
   "metadata": {},
   "outputs": [
    {
     "data": {
      "text/plain": [
       "DecisionTreeRegressor()"
      ]
     },
     "execution_count": 35,
     "metadata": {},
     "output_type": "execute_result"
    }
   ],
   "source": [
    "lr.fit(X_train, y_train)\n",
    "dt.fit(X_train, y_train)"
   ]
  },
  {
   "cell_type": "markdown",
   "id": "1d0dc997",
   "metadata": {},
   "source": [
    "# Evaluating model"
   ]
  },
  {
   "cell_type": "code",
   "execution_count": 36,
   "id": "7ea8d840",
   "metadata": {},
   "outputs": [],
   "source": [
    "lr_pred = lr.predict(X_test)\n",
    "dt_pred = dt.predict(X_test)"
   ]
  },
  {
   "cell_type": "code",
   "execution_count": 37,
   "id": "1142da1a",
   "metadata": {},
   "outputs": [
    {
     "data": {
      "text/plain": [
       "1.0"
      ]
     },
     "execution_count": 37,
     "metadata": {},
     "output_type": "execute_result"
    }
   ],
   "source": [
    "r2_score(y_test,lr_pred)\n",
    "r2_score(y_test,dt_pred)\n"
   ]
  },
  {
   "cell_type": "code",
   "execution_count": null,
   "id": "2e22eccf",
   "metadata": {},
   "outputs": [],
   "source": [
    "# Cross validation score"
   ]
  },
  {
   "cell_type": "code",
   "execution_count": 38,
   "id": "8510d254",
   "metadata": {},
   "outputs": [],
   "source": [
    "lr_score = cross_val_score(lr,df,y,cv=10)\n",
    "dt_score = cross_val_score(dt,df,y,cv=10)\n"
   ]
  },
  {
   "cell_type": "code",
   "execution_count": 39,
   "id": "ff7a2e56",
   "metadata": {},
   "outputs": [
    {
     "data": {
      "text/plain": [
       "array([1., 1., 1., 1., 1., 1., 1., 1., 1., 1.])"
      ]
     },
     "execution_count": 39,
     "metadata": {},
     "output_type": "execute_result"
    }
   ],
   "source": [
    "lr_score\n",
    "dt_score"
   ]
  },
  {
   "cell_type": "code",
   "execution_count": 42,
   "id": "86398570",
   "metadata": {},
   "outputs": [
    {
     "name": "stdout",
     "output_type": "stream",
     "text": [
      "1.0\n",
      "1.0\n"
     ]
    }
   ],
   "source": [
    "print(np.mean(lr_score))\n",
    "print(np.mean(dt_score))"
   ]
  },
  {
   "cell_type": "markdown",
   "id": "083d7ec1",
   "metadata": {},
   "source": [
    "# Ridge regression"
   ]
  },
  {
   "cell_type": "code",
   "execution_count": 45,
   "id": "de6696bc",
   "metadata": {},
   "outputs": [],
   "source": [
    "ri = Ridge()"
   ]
  },
  {
   "cell_type": "code",
   "execution_count": 47,
   "id": "d16f9fbb",
   "metadata": {},
   "outputs": [
    {
     "data": {
      "text/plain": [
       "Ridge()"
      ]
     },
     "execution_count": 47,
     "metadata": {},
     "output_type": "execute_result"
    }
   ],
   "source": [
    "ri.fit(X_train,y_train)"
   ]
  },
  {
   "cell_type": "code",
   "execution_count": 49,
   "id": "6e6ee500",
   "metadata": {},
   "outputs": [],
   "source": [
    "ri_pred = ri.predict(X_test)"
   ]
  },
  {
   "cell_type": "code",
   "execution_count": 50,
   "id": "21b324be",
   "metadata": {},
   "outputs": [
    {
     "data": {
      "text/plain": [
       "0.8864846195743215"
      ]
     },
     "execution_count": 50,
     "metadata": {},
     "output_type": "execute_result"
    }
   ],
   "source": [
    "r2_score(y_test,ri_pred)"
   ]
  },
  {
   "cell_type": "markdown",
   "id": "5c168f10",
   "metadata": {},
   "source": [
    "# Lasso regression"
   ]
  },
  {
   "cell_type": "code",
   "execution_count": 51,
   "id": "fe3b419f",
   "metadata": {},
   "outputs": [],
   "source": [
    "la = Lasso()"
   ]
  },
  {
   "cell_type": "code",
   "execution_count": 52,
   "id": "adee27da",
   "metadata": {},
   "outputs": [
    {
     "data": {
      "text/plain": [
       "Lasso()"
      ]
     },
     "execution_count": 52,
     "metadata": {},
     "output_type": "execute_result"
    }
   ],
   "source": [
    "la.fit(X_train,y_train)"
   ]
  },
  {
   "cell_type": "code",
   "execution_count": 54,
   "id": "41fb6cae",
   "metadata": {},
   "outputs": [],
   "source": [
    "la_pred = la.predict(X_test)"
   ]
  },
  {
   "cell_type": "code",
   "execution_count": 55,
   "id": "d888f66d",
   "metadata": {},
   "outputs": [
    {
     "data": {
      "text/plain": [
       "0.8864863167264796"
      ]
     },
     "execution_count": 55,
     "metadata": {},
     "output_type": "execute_result"
    }
   ],
   "source": [
    "r2_score(y_test,la_pred)"
   ]
  }
 ],
 "metadata": {
  "kernelspec": {
   "display_name": "Python 3",
   "language": "python",
   "name": "python3"
  },
  "language_info": {
   "codemirror_mode": {
    "name": "ipython",
    "version": 3
   },
   "file_extension": ".py",
   "mimetype": "text/x-python",
   "name": "python",
   "nbconvert_exporter": "python",
   "pygments_lexer": "ipython3",
   "version": "3.8.8"
  }
 },
 "nbformat": 4,
 "nbformat_minor": 5
}
